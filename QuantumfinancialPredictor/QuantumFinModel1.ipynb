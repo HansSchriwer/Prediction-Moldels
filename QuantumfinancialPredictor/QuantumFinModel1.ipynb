{
 "cells": [
  {
   "cell_type": "code",
   "execution_count": null,
   "id": "3d7b1bf4-63fa-415c-9930-8c7a095179b6",
   "metadata": {},
   "outputs": [],
   "source": [
    "Quantum Computing and Quantum Machine Learning (QML) for Profit Maximization and Prediction"
   ]
  },
  {
   "cell_type": "code",
   "execution_count": null,
   "id": "6909af9c-f5bb-403b-98d4-4976249418d2",
   "metadata": {},
   "outputs": [],
   "source": [
    "### \n",
    "Quantum Mathematics is a theoretical approach that explores concepts from quantum mechanics, such as superposition, entanglement, and probability distributions, to solve complex problems. In the context of financial modeling, Quantum Computing and Quantum Machine Learning (QML) could potentially enhance prediction accuracy by tackling problems in ways classical algorithms cannot.\n",
    "However, models using Quantum Mathematics or Quantum Computing for financial predictions are still in their infancy. Current quantum computers are in the Noisy Intermediate-Scale Quantum (NISQ) era, meaning they are not yet capable of outperforming classical computers for large-scale, practical tasks like stock and cryptocurrency price prediction. That said, research in this domain is promising, and specific use cases could see significant benefits.\n",
    "###"
   ]
  },
  {
   "cell_type": "code",
   "execution_count": null,
   "id": "c8b63ce5-ce33-483f-8cdc-c6c302df03df",
   "metadata": {},
   "outputs": [],
   "source": [
    "###\n",
    "How Quantum Mathematics Could Help\n",
    "1.\tExploration of Complex Dependencies:\n",
    "o\tQuantum models can handle high-dimensional data and complex correlations more efficiently than classical models.\n",
    "o\tStock and crypto prices often exhibit non-linear and chaotic patterns, which quantum algorithms are better equipped to model.\n",
    "2.\tEnhanced Optimization:\n",
    "o\tQuantum computers can solve optimization problems like portfolio optimization and parameter tuning faster than classical methods.\n",
    "o\tThis could improve hyperparameter tuning and feature selection in models.\n",
    "3.\tProbabilistic Nature:\n",
    "o\tQuantum mechanics inherently deals with probability distributions, which aligns with the stochastic nature of financial markets.\n",
    "4.\tSpeed and Scalability:\n",
    "o\tOnce quantum hardware is sufficiently advanced, calculations that are computationally prohibitive for classical machines could become feasible.\n",
    "###"
   ]
  },
  {
   "cell_type": "code",
   "execution_count": null,
   "id": "9d2491b6-b86c-410e-a644-83a5f7a7d329",
   "metadata": {},
   "outputs": [],
   "source": [
    "###\n",
    "Available Quantum Models and Libraries\n",
    "Some frameworks and libraries have emerged for exploring quantum techniques in finance:\n",
    "1.\tPennyLane:\n",
    "o\tPython library for quantum machine learning.\n",
    "o\tIntegrates classical machine learning libraries like TensorFlow and PyTorch with quantum computing.\n",
    "2.\tQiskit:\n",
    "o\tIBM's quantum computing framework.\n",
    "o\tIncludes algorithms for variational quantum circuits and quantum optimization.\n",
    "3.\tTensorFlow Quantum (TFQ):\n",
    "o\tCombines TensorFlow with quantum machine learning capabilities.\n",
    "4.\tD-Wave Leap:\n",
    "o\tSpecialized for quantum annealing and optimization problems.\n",
    "5.\tQuantinuum and Xanadu:\n",
    "o\tPlatforms for exploring quantum computing in finance.\n",
    "###"
   ]
  },
  {
   "cell_type": "code",
   "execution_count": null,
   "id": "0bb8e7de-4c04-4d20-b857-18902476b19a",
   "metadata": {},
   "outputs": [],
   "source": [
    "###\n",
    "Is Quantum Computing Worth Pursuing Now?\n",
    "For high-accuracy stock and crypto prediction, classical deep learning models like LSTMs, Temporal Fusion Transformers, and ensembles still outperform quantum models in real-world use cases. However, if you want to explore cutting-edge research and future-proof your work, incorporating quantum techniques could be worthwhile.\n",
    "###"
   ]
  },
  {
   "cell_type": "code",
   "execution_count": null,
   "id": "5bceb5fb-ddcd-40c6-9888-a1a0f2894e3a",
   "metadata": {},
   "outputs": [],
   "source": [
    "###\n",
    "Quantum Financial Models for Maximum Profit and Predictability\n",
    "Among various quantum approaches, Quantum Neural Networks (QNNs) or Quantum-Assisted Machine Learning (QAML) have the most potential to significantly enhance financial forecasting accuracy and profitability. These models are best suited for tasks like:\n",
    "1.\tHigh-Dimensional Feature Exploration:\n",
    "o\tEfficiently handle large, complex datasets with interdependent variables (e.g., stock prices, technical indicators, sentiment scores).\n",
    "2.\tOptimization in Portfolio Management:\n",
    "o\tUse Quantum Approximate Optimization Algorithms (QAOA) for finding optimal investment strategies.\n",
    "3.\tRisk Analysis and Hedging:\n",
    "o\tExplore multivariate distributions to minimize risk and maximize returns.\n",
    "###"
   ]
  },
  {
   "cell_type": "code",
   "execution_count": null,
   "id": "4e5c9da1-4e99-40de-b4d2-63185386318b",
   "metadata": {},
   "outputs": [],
   "source": [
    "###\n",
    "Recommended Advanced Quantum Model\n",
    "Hybrid Quantum-Classical Temporal Fusion Transformer (TFT)\n",
    "A Quantum-Classical TFT combines:\n",
    "1.\tQuantum Feature Extraction:\n",
    "o\tUse quantum circuits for feature transformation, capturing complex relationships in market data.\n",
    "2.\tTemporal Fusion Transformer:\n",
    "o\tA state-of-the-art deep learning model for multi-horizon time-series forecasting.\n",
    "This hybrid approach leverages the quantum model's ability to explore intricate data patterns and the classical model's robustness for sequential data.\n",
    "###"
   ]
  },
  {
   "cell_type": "code",
   "execution_count": null,
   "id": "e2edfdf1-15e8-477d-8c13-72e51a0818c4",
   "metadata": {},
   "outputs": [],
   "source": [
    "###\n",
    "Why a Quantum Model?\n",
    "1.\tQuantum Mechanics for Prediction:\n",
    "o\tQuantum superposition and entanglement allow exploration of multiple possibilities simultaneously, identifying subtle patterns in market data.\n",
    "2.\tProbabilistic Nature:\n",
    "o\tFinancial markets are probabilistic, and quantum models inherently align with this nature.\n",
    "3.\tComplexity Handling:\n",
    "o\tQuantum circuits can model highly nonlinear and interdependent relationships more effectively than classical algorithms.\n",
    "###"
   ]
  },
  {
   "cell_type": "code",
   "execution_count": null,
   "id": "842b5fb7-ea8b-4f08-9d51-623da9164709",
   "metadata": {},
   "outputs": [],
   "source": [
    "###\n",
    "Specific Quantum Techniques\n",
    "1.\tQuantum Variational Circuits (QVCs):\n",
    "o\tUse parameterized quantum circuits to model financial data relationships and predict future trends.\n",
    "o\tSuitable for time-series forecasting and portfolio optimization.\n",
    "2.\tQuantum Approximate Optimization Algorithm (QAOA):\n",
    "o\tOptimize financial decisions like asset allocation or risk mitigation.\n",
    "o\tIdeal for problems involving combinatorial optimization (e.g., selecting the best investment portfolio).\n",
    "3.\tQuantum Generative Adversarial Networks (QGANs):\n",
    "o\tGenerate synthetic financial data to augment training datasets.\n",
    "o\tUseful for markets with limited historical data, such as cryptocurrency markets.\n",
    "4.\tQuantum Boltzmann Machines (QBMs):\n",
    "o\tProbabilistic models for modeling asset price distributions and market scenarios.\n",
    "###"
   ]
  },
  {
   "cell_type": "code",
   "execution_count": null,
   "id": "00998cf4-841f-46b5-9979-5303d8aa3120",
   "metadata": {},
   "outputs": [],
   "source": [
    "###\n",
    "Proposed Hybrid Quantum-Classical Model\n",
    "Architecture\n",
    "1.\tData Input:\n",
    "o\tRaw market data (open, high, low, close, volume, etc.).\n",
    "o\tTechnical indicators (RSI, MACD, Bollinger Bands).\n",
    "o\tExternal features (news sentiment, macroeconomic data).\n",
    "2.\tQuantum Feature Extraction:\n",
    "o\tQuantum circuit encodes data into quantum states, exploring high-dimensional patterns.\n",
    "o\tExtract quantum-enhanced features.\n",
    "3.\tTemporal Fusion Transformer:\n",
    "o\tMulti-horizon prediction using both classical and quantum features.\n",
    "4.\tPrediction:\n",
    "o\tOutput forecasts for 7, 30, and 180 days.\n",
    "o\tProvide confidence intervals and probabilistic predictions.\n",
    "###"
   ]
  },
  {
   "cell_type": "code",
   "execution_count": null,
   "id": "429a2e0d-34fb-4cca-a1b5-901d58d38c1c",
   "metadata": {},
   "outputs": [],
   "source": [
    "# Implementation Guideline for Quantum-Classical TFT #"
   ]
  },
  {
   "cell_type": "code",
   "execution_count": null,
   "id": "6022c52d-d47d-4636-bb8c-b243cfabb8ab",
   "metadata": {},
   "outputs": [],
   "source": [
    "import cirq\n",
    "import tensorflow_quantum as tfq\n",
    "from pytorch_forecasting import TemporalFusionTransformer\n",
    "from pytorch_forecasting.metrics import QuantileLoss"
   ]
  },
  {
   "cell_type": "code",
   "execution_count": null,
   "id": "f8365771-bf00-4b3c-8eca-9f595af03d64",
   "metadata": {},
   "outputs": [],
   "source": [
    "# Step 1: Define Quantum Circuit\n",
    "def create_quantum_circuit(features):\n",
    "    qubits = [cirq.GridQubit(0, i) for i in range(len(features))]\n",
    "    circuit = cirq.Circuit()\n",
    "    for i, feature in enumerate(features):\n",
    "        circuit.append(cirq.rx(feature * np.pi).on(qubits[i]))\n",
    "    for i in range(len(qubits) - 1):\n",
    "        circuit.append(cirq.CNOT(qubits[i], qubits[i + 1]))\n",
    "    return circuit"
   ]
  },
  {
   "cell_type": "code",
   "execution_count": null,
   "id": "b1cc6dd0-85f6-4f62-a3b2-b31a3d51916d",
   "metadata": {},
   "outputs": [],
   "source": [
    "# Step 2: Encode Data into Quantum States\n",
    "quantum_circuits = [create_quantum_circuit(features) for features in data]"
   ]
  },
  {
   "cell_type": "code",
   "execution_count": null,
   "id": "ad6ccabb-3ec0-4c89-ba3c-6031c2e36fe5",
   "metadata": {},
   "outputs": [],
   "source": [
    "# Step 3: Train Temporal Fusion Transformer\n",
    "# Combine quantum-enhanced features with classical data\n",
    "combined_features = combine_quantum_classical_features(quantum_features, classical_features)\n",
    "\n",
    "tft_model = TemporalFusionTransformer.from_dataset(\n",
    "    dataset, \n",
    "    learning_rate=1e-3, \n",
    "    hidden_size=128,\n",
    "    attention_head_size=8,\n",
    "    dropout=0.2,\n",
    "    loss=QuantileLoss()\n",
    ")"
   ]
  },
  {
   "cell_type": "code",
   "execution_count": null,
   "id": "8066a4a1-d144-47bc-844c-c2004bc779f9",
   "metadata": {},
   "outputs": [],
   "source": []
  },
  {
   "cell_type": "code",
   "execution_count": null,
   "id": "feab63a5-64ba-4116-b009-b586bf90a7f2",
   "metadata": {},
   "outputs": [],
   "source": [
    "# Step 4: Train and Evaluate\n",
    "trainer = pl.Trainer(max_epochs=100, gpus=1)\n",
    "trainer.fit(tft_model, train_dataloader, val_dataloader)"
   ]
  },
  {
   "cell_type": "code",
   "execution_count": null,
   "id": "c06b5f92-f6c8-456e-928d-9962e2544325",
   "metadata": {},
   "outputs": [],
   "source": [
    "### \n",
    "Expected Results\n",
    "•\tHigher Predictive Power:\n",
    "o\tQuantum models reduce noise and capture subtle interdependencies, enhancing accuracy.\n",
    "•\tProfit Optimization:\n",
    "o\tQAOA and QVC improve portfolio allocation and trading strategies.\n",
    "•\tProbabilistic Outputs:\n",
    "o\tPredictions include confidence intervals, allowing better decision-making.\n",
    "###"
   ]
  },
  {
   "cell_type": "code",
   "execution_count": null,
   "id": "99ef6158-c4cf-47a2-b988-b04cb662eedc",
   "metadata": {},
   "outputs": [],
   "source": [
    "###\n",
    "Challenges\n",
    "1.\tQuantum Hardware Limitations:\n",
    "o\tCurrent quantum computers are limited by qubit count and noise.\n",
    "o\tUse simulators or hybrid pipelines to overcome this.\n",
    "2.\tComputational Cost:\n",
    "o\tQuantum models are computationally expensive. Optimize circuits for efficiency.\n",
    "3.\tData Encoding:\n",
    "o\tEfficiently mapping financial data into quantum states is complex.\n",
    "###"
   ]
  },
  {
   "cell_type": "code",
   "execution_count": null,
   "id": "6476b0a2-3198-4782-b225-4c4f9614302b",
   "metadata": {},
   "outputs": [],
   "source": [
    "###\n",
    "Further Optimization and Deployment of the Quantum Hybrid Model\n",
    "To optimize the Quantum Hybrid Model for better accuracy and deploy it in a production environment, we’ll focus on enhancing the pipeline, optimizing model performance, and setting up deployment infrastructure.\n",
    "###"
   ]
  },
  {
   "cell_type": "code",
   "execution_count": null,
   "id": "8a50bbea-a700-4fc5-8cec-2d53fb6e0974",
   "metadata": {},
   "outputs": [],
   "source": [
    "###\n",
    "1. Further Optimization\n",
    "1.1 Advanced Feature Engineering\n",
    "Incorporate additional data sources and derived features:\n",
    "1.\tMacroeconomic Indicators:\n",
    "o\tGDP, unemployment rate, interest rates, and inflation.\n",
    "o\tUse APIs like Quandl, FRED, or Alpha Vantage to fetch these data.\n",
    "2.\tMarket Sentiment Analysis:\n",
    "o\tIntegrate sentiment scores derived from news articles or social media.\n",
    "o\tUse libraries like TextBlob, VADER, or Hugging Face Transformers.\n",
    "3.\tVolatility Index (VIX):\n",
    "o\tMeasure market sentiment and include it as a predictive feature.\n",
    "###"
   ]
  },
  {
   "cell_type": "code",
   "execution_count": null,
   "id": "9eec172d-e454-47f3-ba73-387395a861eb",
   "metadata": {},
   "outputs": [],
   "source": [
    "# 1.2 Hyperparameter Tuning\n",
    "Use Optuna for efficient hyperparameter optimization:\n",
    "#"
   ]
  },
  {
   "cell_type": "code",
   "execution_count": null,
   "id": "68163252-cd17-4854-a31a-ef24f8640ffe",
   "metadata": {},
   "outputs": [],
   "source": [
    "import optuna\n",
    "\n",
    "def objective(trial):\n",
    "    hidden_size = trial.suggest_int(\"hidden_size\", 64, 256)\n",
    "    attention_head_size = trial.suggest_int(\"attention_head_size\", 4, 16)\n",
    "    dropout = trial.suggest_float(\"dropout\", 0.1, 0.5)\n",
    "    learning_rate = trial.suggest_float(\"learning_rate\", 1e-5, 1e-3, log=True)"
   ]
  },
  {
   "cell_type": "code",
   "execution_count": null,
   "id": "6f0d7d59-0ad9-484d-b771-cc766106b4de",
   "metadata": {},
   "outputs": [],
   "source": [
    "# Create Temporal Fusion Transformer with trial parameters\n",
    "    tft_model = TemporalFusionTransformer.from_dataset(\n",
    "        tft_dataset,\n",
    "        learning_rate=learning_rate,\n",
    "        hidden_size=hidden_size,\n",
    "        attention_head_size=attention_head_size,\n",
    "        dropout=dropout,\n",
    "        loss=QuantileLoss(),\n",
    "    )\n",
    "    \n",
    "    trainer = Trainer(max_epochs=10, gpus=1)\n",
    "    trainer.fit(tft_model, train_dataloader, val_dataloader)"
   ]
  },
  {
   "cell_type": "code",
   "execution_count": null,
   "id": "f5f1d882-1987-42ed-aede-2594899b4341",
   "metadata": {},
   "outputs": [],
   "source": [
    "# Evaluate model on validation set\n",
    "    val_loss = trainer.callback_metrics[\"val_loss\"].item()\n",
    "    return val_loss"
   ]
  },
  {
   "cell_type": "code",
   "execution_count": null,
   "id": "13b18c50-d675-488e-a6ff-6cb16d6ed914",
   "metadata": {},
   "outputs": [],
   "source": [
    "# Run optimization\n",
    "study = optuna.create_study(direction=\"minimize\")\n",
    "study.optimize(objective, n_trials=20)\n",
    "print(\"Best hyperparameters:\", study.best_params)"
   ]
  },
  {
   "cell_type": "code",
   "execution_count": null,
   "id": "5634bab2-e413-4bed-8887-c54277ec4e6d",
   "metadata": {},
   "outputs": [],
   "source": [
    "# 1.3 Ensemble Learning\n",
    "Combine multiple models to reduce variance and improve robustness:\n",
    "1.\tModel Stacking:\n",
    "o\tCombine predictions from TFT, LSTM, and Quantum Variational Circuits.\n",
    "o\tUse a meta-model (e.g., Gradient Boosting) to learn how to weigh predictions.\n",
    "2.\tBagging and Boosting:\n",
    "o\tTrain multiple instances of the model with different subsets of the data.\n",
    "1.4 Quantum Circuit Optimization\n",
    "•\tCircuit Depth:\n",
    "o\tMinimize the depth of quantum circuits to reduce noise.\n",
    "•\tError Mitigation:\n",
    "o\tUse post-selection or randomized compiling to address noise in quantum computations.\n",
    "•\tVariational Quantum Eigensolver (VQE):\n",
    "o\tOptimize circuit parameters for better feature extraction.\n",
    "#"
   ]
  },
  {
   "cell_type": "code",
   "execution_count": null,
   "id": "6a4f9e34-a473-4106-88cd-009ae4f43310",
   "metadata": {},
   "outputs": [],
   "source": [
    "# 2. Deployment\n",
    "2.1 Create an API for Predictions\n",
    "Use FastAPI to create an API for serving predictions.\n",
    "#"
   ]
  },
  {
   "cell_type": "code",
   "execution_count": null,
   "id": "b9f41c9f-83f2-4be1-9403-c1b4e07b38c2",
   "metadata": {},
   "outputs": [],
   "source": [
    "from fastapi import FastAPI\n",
    "import pandas as pd\n",
    "import tensorflow as tf\n",
    "\n",
    "app = FastAPI()"
   ]
  },
  {
   "cell_type": "code",
   "execution_count": null,
   "id": "02f88bff-a2ee-4ac2-b2dc-7f2fcdb51dbb",
   "metadata": {},
   "outputs": [],
   "source": [
    "# Load pre-trained TFT model\n",
    "tft_model = TemporalFusionTransformer.load_from_checkpoint(\"tft_model.ckpt\")\n",
    "\n",
    "@app.post(\"/predict\")\n",
    "def predict(data: dict):\n",
    "    df = pd.DataFrame(data)"
   ]
  },
  {
   "cell_type": "code",
   "execution_count": null,
   "id": "519e8b72-f338-47e3-8c23-e41940426987",
   "metadata": {},
   "outputs": [],
   "source": [
    "# Preprocess input data\n",
    "    quantum_features = extract_quantum_features(df)\n",
    "    combined_features = np.hstack((df[features].values, quantum_features))"
   ]
  },
  {
   "cell_type": "code",
   "execution_count": null,
   "id": "43a65df0-755b-40e9-a12e-e834e14fa2e1",
   "metadata": {},
   "outputs": [],
   "source": [
    "# Generate predictions\n",
    "    predictions = tft_model.predict(combined_features)\n",
    "    return {\"predictions\": predictions.tolist()}"
   ]
  },
  {
   "cell_type": "code",
   "execution_count": null,
   "id": "a0b2e7e2-da59-4d0f-b159-52d45921036e",
   "metadata": {},
   "outputs": [],
   "source": [
    "# 2.2 Dockerize the Application\n",
    "Create a Dockerfile to containerize the API.\n",
    "#"
   ]
  },
  {
   "cell_type": "code",
   "execution_count": null,
   "id": "59bdb2ee-6218-4d1d-8191-6521247785c6",
   "metadata": {},
   "outputs": [],
   "source": [
    "# Create a Dockerfile to containerize the API.#\n",
    "FROM python:3.9-slim"
   ]
  },
  {
   "cell_type": "code",
   "execution_count": null,
   "id": "5033ebfc-b7d9-46cc-9f99-0fc3507385fa",
   "metadata": {},
   "outputs": [],
   "source": [
    "# Install dependencies\n",
    "RUN pip install fastapi uvicorn tensorflow pytorch-lightning pytorch-forecasting cirq tensorflow-quantum"
   ]
  },
  {
   "cell_type": "code",
   "execution_count": null,
   "id": "316bca98-cf6b-4f9a-a5e6-e63196aa2a37",
   "metadata": {},
   "outputs": [],
   "source": [
    "# Copy project files\n",
    "COPY . /app\n",
    "WORKDIR /app"
   ]
  },
  {
   "cell_type": "code",
   "execution_count": null,
   "id": "66a72b6b-e52a-4748-b657-747eea10b7fa",
   "metadata": {},
   "outputs": [],
   "source": [
    "# Run the API\n",
    "CMD [\"uvicorn\", \"main:app\", \"--host\", \"0.0.0.0\", \"--port\", \"8000\"]"
   ]
  },
  {
   "cell_type": "code",
   "execution_count": null,
   "id": "bf011497-5c73-4dc8-97e9-a117718b3842",
   "metadata": {},
   "outputs": [],
   "source": [
    "# Build and run the Docker container:#\n",
    "docker build -t quantum-hybrid-api .\n",
    "docker run -p 8000:8000 quantum-hybrid-api"
   ]
  },
  {
   "cell_type": "code",
   "execution_count": null,
   "id": "89829526-bf48-46dc-bfc9-b81cedd721c5",
   "metadata": {},
   "outputs": [],
   "source": [
    "###\n",
    "2.3 Deploy on Cloud Platforms\n",
    "1.\tAWS Elastic Beanstalk or Google Cloud Run:\n",
    "o\tDeploy the Dockerized API for scalability.\n",
    "2.\tKubernetes:\n",
    "o\tUse Kubernetes for managing multiple containers for high availability.\n",
    "###"
   ]
  },
  {
   "cell_type": "code",
   "execution_count": null,
   "id": "9fbc1c3e-0df0-4324-b4ce-61d905b46b60",
   "metadata": {},
   "outputs": [],
   "source": [
    "###\n",
    "3. Monitoring and Continuous Improvement\n",
    "3.1 Model Monitoring\n",
    "•\tUse a dashboard like Streamlit or Dash to visualize predictions and track model performance.\n",
    "•\tMonitor metrics (e.g., MAE, RMSE, MAPE) and detect drift in predictions over time.\n",
    "3.2 Data Updates\n",
    "•\tAutomate data ingestion and model retraining pipelines using Apache Airflow or Prefect.\n",
    "3.3 Feedback Loop\n",
    "•\tIncorporate user feedback or live market data to refine the model dynamically.\n",
    "###"
   ]
  },
  {
   "cell_type": "code",
   "execution_count": null,
   "id": "0721e958-c45b-437e-bf01-da4b54243670",
   "metadata": {},
   "outputs": [],
   "source": [
    "###\n",
    "Conclusion\n",
    "This optimized quantum-classical hybrid model will:\n",
    "1.\tLeverage advanced quantum feature extraction to uncover complex patterns.\n",
    "2.\tUtilize state-of-the-art deep learning for robust forecasting.\n",
    "3.\tProvide a scalable and production-ready API for real-time predictions.\n",
    "###"
   ]
  },
  {
   "cell_type": "code",
   "execution_count": null,
   "id": "a1a15d97-000c-457c-a50f-7c56c61af85b",
   "metadata": {},
   "outputs": [],
   "source": []
  }
 ],
 "metadata": {
  "kernelspec": {
   "display_name": "Python [conda env:base] *",
   "language": "python",
   "name": "conda-base-py"
  },
  "language_info": {
   "name": ""
  }
 },
 "nbformat": 4,
 "nbformat_minor": 5
}
